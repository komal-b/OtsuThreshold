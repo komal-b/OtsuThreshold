{
  "cells": [
    {
      "cell_type": "code",
      "execution_count": 31,
      "metadata": {
        "colab": {
          "base_uri": "https://localhost:8080/"
        },
        "id": "faGRxXXi86Ko",
        "outputId": "e5a79441-26f1-4199-fab9-d640875f1315"
      },
      "outputs": [
        {
          "name": "stdout",
          "output_type": "stream",
          "text": [
            "Requirement already satisfied: opencv-python in /opt/miniconda3/lib/python3.12/site-packages (4.10.0.84)\n",
            "Requirement already satisfied: numpy>=1.21.2 in /opt/miniconda3/lib/python3.12/site-packages (from opencv-python) (1.26.4)\n",
            "Note: you may need to restart the kernel to use updated packages.\n"
          ]
        }
      ],
      "source": [
        "pip install opencv-python"
      ]
    },
    {
      "cell_type": "code",
      "execution_count": 32,
      "metadata": {
        "colab": {
          "base_uri": "https://localhost:8080/"
        },
        "id": "qxtKlFgsGXqq",
        "outputId": "3021cbdf-180c-400c-ad13-8ff04f3af732"
      },
      "outputs": [
        {
          "name": "stdout",
          "output_type": "stream",
          "text": [
            "Requirement already satisfied: matplotlib in /opt/miniconda3/lib/python3.12/site-packages (3.9.2)\n",
            "Requirement already satisfied: contourpy>=1.0.1 in /opt/miniconda3/lib/python3.12/site-packages (from matplotlib) (1.2.0)\n",
            "Requirement already satisfied: cycler>=0.10 in /opt/miniconda3/lib/python3.12/site-packages (from matplotlib) (0.11.0)\n",
            "Requirement already satisfied: fonttools>=4.22.0 in /opt/miniconda3/lib/python3.12/site-packages (from matplotlib) (4.51.0)\n",
            "Requirement already satisfied: kiwisolver>=1.3.1 in /opt/miniconda3/lib/python3.12/site-packages (from matplotlib) (1.4.4)\n",
            "Requirement already satisfied: numpy>=1.23 in /opt/miniconda3/lib/python3.12/site-packages (from matplotlib) (1.26.4)\n",
            "Requirement already satisfied: packaging>=20.0 in /opt/miniconda3/lib/python3.12/site-packages (from matplotlib) (24.1)\n",
            "Requirement already satisfied: pillow>=8 in /opt/miniconda3/lib/python3.12/site-packages (from matplotlib) (10.4.0)\n",
            "Requirement already satisfied: pyparsing>=2.3.1 in /opt/miniconda3/lib/python3.12/site-packages (from matplotlib) (3.1.4)\n",
            "Requirement already satisfied: python-dateutil>=2.7 in /opt/miniconda3/lib/python3.12/site-packages (from matplotlib) (2.9.0)\n",
            "Requirement already satisfied: six>=1.5 in /opt/miniconda3/lib/python3.12/site-packages (from python-dateutil>=2.7->matplotlib) (1.16.0)\n",
            "Note: you may need to restart the kernel to use updated packages.\n"
          ]
        }
      ],
      "source": [
        "pip install matplotlib"
      ]
    },
    {
      "cell_type": "code",
      "execution_count": 33,
      "metadata": {
        "colab": {
          "base_uri": "https://localhost:8080/"
        },
        "id": "GBYYKsEwXVl4",
        "outputId": "35580c9c-29f4-4f47-823a-b613b391da9f"
      },
      "outputs": [
        {
          "name": "stdout",
          "output_type": "stream",
          "text": [
            "Requirement already satisfied: Pillow in /opt/miniconda3/lib/python3.12/site-packages (10.4.0)\n",
            "Note: you may need to restart the kernel to use updated packages.\n"
          ]
        }
      ],
      "source": [
        "pip install Pillow"
      ]
    },
    {
      "cell_type": "code",
      "execution_count": 34,
      "metadata": {
        "id": "OzUOhDCM3s5p"
      },
      "outputs": [],
      "source": [
        "def histogram(img):\n",
        "  hist = [0] * 256\n",
        "  for i in range(0, len(img)):\n",
        "    for j in range(0, len(img[0])):\n",
        "      hist[img[i][j]] += 1\n",
        "  return hist"
      ]
    },
    {
      "cell_type": "code",
      "execution_count": 35,
      "metadata": {
        "id": "V71ZfKP-2baY"
      },
      "outputs": [],
      "source": [
        "def countPixels(hist):\n",
        "  count = 0\n",
        "  for i in range(0, len(hist)):\n",
        "    if hist[i] >= 0:\n",
        "      count += hist[i]\n",
        "  return count"
      ]
    },
    {
      "cell_type": "code",
      "execution_count": 36,
      "metadata": {
        "id": "re4IhFJYxsUp"
      },
      "outputs": [],
      "source": [
        "def threshold_with_two_regions(new_gray_image):\n",
        "  hist = histogram(new_gray_image)\n",
        "  plt.bar(np.arange(0, 256), hist)\n",
        "  plt.show()\n",
        "  count_pixels = countPixels(hist)\n",
        "  min_var = float('inf')\n",
        "  threshold = 0\n",
        "  var_b = 0\n",
        "  var_f = 0\n",
        "  w_b = 0\n",
        "  w_f = 0\n",
        "  sum_b = 0\n",
        "  for t in range(0, len(hist)):\n",
        "    # Calculate weights\n",
        "    w_b += hist[t]\n",
        "    if w_b == 0:\n",
        "      continue\n",
        "    w_f = countPixels(hist) - w_b\n",
        "    if w_f == 0:\n",
        "      break\n",
        "\n",
        "    sum_b += t * hist[t]\n",
        "    sum_f = (np.sum(np.arange(0, 256) * hist)) - sum_b\n",
        "     # Calculate means\n",
        "    mu_b = sum_b / w_b\n",
        "    mu_f = sum_f / w_f\n",
        "    \n",
        "    # Calculate variances\n",
        "    var_b = np.sum((np.arange(0, t + 1) - mu_b) ** 2 * hist[:t + 1]) / w_b\n",
        "    \n",
        "    var_f = np.sum((np.arange(t + 1, 256) - mu_f) ** 2 * hist[t + 1:]) / w_f\n",
        "    \n",
        "    # Calculate weighted sum of variances\n",
        "    total_var = ((w_b/count_pixels) * (var_b)) + ((w_f/count_pixels) * (var_f))\n",
        "    \n",
        "    # Update thresholds if variance is minimized\n",
        "    if total_var < min_var:\n",
        "      min_var = total_var\n",
        "      threshold = t\n",
        "  \n",
        "  print(\"Total Variance: \",min_var)\n",
        "  return threshold\n",
        "\n",
        "\n"
      ]
    },
    {
      "cell_type": "code",
      "execution_count": 37,
      "metadata": {
        "id": "1bT9BKH47syD"
      },
      "outputs": [],
      "source": [
        "def threshold_with_three_regions(image):\n",
        "    hist = histogram(image)\n",
        "    # Precompute cumulative sums for efficiency\n",
        "    cum_sum = np.cumsum(hist)\n",
        "    cum_mean = np.cumsum(hist * np.arange(256))\n",
        "\n",
        "\n",
        "    min_var = float('inf')\n",
        "    optimal_thresholds = (0, 0)\n",
        "\n",
        "    # Iterate over all possible doubles of thresholds\n",
        "    for t1 in range(1, 254):\n",
        "        for t2 in range(t1 + 1, 255):\n",
        "            # Calculate weights\n",
        "            w1 = cum_sum[t1]\n",
        "            w2 = cum_sum[t2] - cum_sum[t1]\n",
        "            w3 = 1 - cum_sum[t2]\n",
        "\n",
        "            # Skip if any weight is zero\n",
        "            if w1 == 0 or w2 == 0 or w3 == 0:\n",
        "                continue\n",
        "\n",
        "            # Calculate means\n",
        "            mu1 = cum_mean[t1] / w1\n",
        "            mu2 = (cum_mean[t2] - cum_mean[t1]) / w2\n",
        "            mu3 = (cum_mean[255] - cum_mean[t2]) / w3\n",
        "\n",
        "            # Calculate variances\n",
        "            var1 = np.sum((np.arange(0, t1 + 1) - mu1) ** 2 * hist[:t1 + 1]) / w1\n",
        "            var2 = np.sum((np.arange(t1 + 1, t2 + 1) - mu2) ** 2 * hist[t1 + 1:t2 + 1]) / w2\n",
        "            var3 = np.sum((np.arange(t2 + 1, 256) - mu3) ** 2 * hist[t2 + 1:]) / w3\n",
        "         \n",
        "\n",
        "            # Calculate weighted sum of variances\n",
        "            total_var = w1 * var1 + w2 * var2 + w3 * var3\n",
        "        \n",
        "            # Update thresholds if variance is minimized\n",
        "            if total_var < min_var:\n",
        "                min_var = total_var\n",
        "                optimal_thresholds = (t1, t2)\n",
        "\n",
        "    \n",
        "    print(\"Total Variance: \",min_var)\n",
        "    return optimal_thresholds"
      ]
    },
    {
      "cell_type": "code",
      "execution_count": 38,
      "metadata": {
        "id": "3R3OKpxdteCU"
      },
      "outputs": [],
      "source": [
        "\n",
        "def threshold_with_four_regions(image):\n",
        "    hist = histogram(image)\n",
        "\n",
        "    # Precompute cumulative sums for efficiency\n",
        "    cum_sum = np.cumsum(hist)\n",
        "    cum_mean = np.cumsum(hist * np.arange(256))\n",
        "\n",
        "    min_var = float('inf')\n",
        "    optimal_thresholds = (0, 0, 0)\n",
        "\n",
        "    # Iterate over all possible triplets of thresholds\n",
        "    for t1 in range(1, 253):\n",
        "        for t2 in range(t1 + 1, 254):\n",
        "            for t3 in range(t2 + 1, 255):\n",
        "                # Calculate weights\n",
        "                w1 = cum_sum[t1]\n",
        "                w2 = cum_sum[t2] - cum_sum[t1]\n",
        "                w3 = cum_sum[t3] - cum_sum[t2]\n",
        "                w4 = 1 - cum_sum[t3]\n",
        "\n",
        "                # Skip if any weight is zero\n",
        "                if w1 == 0 or w2 == 0 or w3 == 0 or w4 == 0:\n",
        "                    continue\n",
        "\n",
        "                # Calculate means\n",
        "                mu1 = cum_mean[t1] / w1\n",
        "                mu2 = (cum_mean[t2] - cum_mean[t1]) / w2\n",
        "                mu3 = (cum_mean[t3] - cum_mean[t2]) / w3\n",
        "                mu4 = (cum_mean[255] - cum_mean[t3]) / w4\n",
        "\n",
        "                # Calculate variances\n",
        "                var1 = np.sum((np.arange(0, t1 + 1) - mu1) ** 2 * hist[:t1 + 1]) / w1\n",
        "                var2 = np.sum((np.arange(t1 + 1, t2 + 1) - mu2) ** 2 * hist[t1 + 1:t2 + 1]) / w2\n",
        "                var3 = np.sum((np.arange(t2 + 1, t3 + 1) - mu3) ** 2 * hist[t2 + 1:t3 + 1]) / w3\n",
        "                var4 = np.sum((np.arange(t3 + 1, 256) - mu4) ** 2 * hist[t3 + 1:]) / w4\n",
        "                \n",
        "\n",
        "                # Calculate weighted sum of variances\n",
        "                total_var = w1 * var1 + w2 * var2 + w3 * var3 + w4 * var4\n",
        "                \n",
        "\n",
        "                # Update thresholds if variance is minimized\n",
        "                if total_var < min_var:\n",
        "                    min_var = total_var\n",
        "                    optimal_thresholds = (t1, t2, t3)\n",
        "\n",
        "    \n",
        "    print(\"Total Variance: \",min_var)\n",
        "    return optimal_thresholds"
      ]
    },
    {
      "cell_type": "code",
      "execution_count": 39,
      "metadata": {},
      "outputs": [],
      "source": [
        "import os\n",
        "import shutil\n",
        "def move_to_folder(file_path):\n",
        "    downloads_path = os.path.join(os.path.expanduser(\"~\"), \"/Users/komalbagwe/Documents/OtsuThreshold\")\n",
        "    shutil.move(file_path, os.path.join(downloads_path, os.path.basename(file_path)))\n",
        "    print(f\"Moved {file_path} to OtsuThreshold folder.\")"
      ]
    },
    {
      "cell_type": "code",
      "execution_count": null,
      "metadata": {
        "colab": {
          "base_uri": "https://localhost:8080/",
          "height": 1000
        },
        "id": "8WIGPa8S-Stx",
        "outputId": "a5e1ec74-6288-4bce-fd6f-634b4aaccc40"
      },
      "outputs": [
        {
          "data": {
            "image/png": "[encoded data removed]",
            "text/plain": [
              "<Figure size 640x480 with 1 Axes>"
            ]
          },
          "metadata": {},
          "output_type": "display_data"
        },
        {
          "name": "stdout",
          "output_type": "stream",
          "text": [
            "Total Variance:  1321.495701465642\n",
            "Total Variance:  420354567.679206\n",
            "Total Variance:  180965973.79668894\n",
            "Moved otsu_2_region_out_tiger1.bmp to OtsuThreshold folder.\n",
            "Moved otsu_3_region_out_tiger1.bmp to OtsuThreshold folder.\n",
            "Moved otsu_4_region_out_tiger1.bmp to OtsuThreshold folder.\n",
            "Results for tiger1.bmp:\n",
            "Optimal Threshold (2 regions): 107\n",
            "Optimal Thresholds (3 regions): (107, 254)\n",
            "Optimal Thresholds (4 regions): (64, 151, 254)\n",
            "\n",
            "\n"
          ]
        },
        {
          "data": {
            "image/png": "[encoded data removed]",
            "text/plain": [
              "<Figure size 640x480 with 1 Axes>"
            ]
          },
          "metadata": {},
          "output_type": "display_data"
        },
        {
          "name": "stdout",
          "output_type": "stream",
          "text": [
            "Total Variance:  184.7546019457958\n",
            "Total Variance:  266046626.80194592\n",
            "Total Variance:  139525869.06259522\n",
            "Moved otsu_2_region_out_basket_balls.bmp to OtsuThreshold folder.\n",
            "Moved otsu_3_region_out_basket_balls.bmp to OtsuThreshold folder.\n",
            "Moved otsu_4_region_out_basket_balls.bmp to OtsuThreshold folder.\n",
            "Results for basket_balls.bmp:\n",
            "Optimal Threshold (2 regions): 175\n",
            "Optimal Thresholds (3 regions): (175, 254)\n",
            "Optimal Thresholds (4 regions): (100, 184, 254)\n",
            "\n",
            "\n"
          ]
        },
        {
          "data": {
            "image/png": "[encoded data removed]",
            "text/plain": [
              "<Figure size 640x480 with 1 Axes>"
            ]
          },
          "metadata": {},
          "output_type": "display_data"
        },
        {
          "name": "stdout",
          "output_type": "stream",
          "text": [
            "Total Variance:  516.9529330494724\n",
            "Total Variance:  39701985.25819949\n",
            "Total Variance:  14069764.870658644\n",
            "Moved otsu_2_region_out_data13.bmp to OtsuThreshold folder.\n",
            "Moved otsu_3_region_out_data13.bmp to OtsuThreshold folder.\n",
            "Moved otsu_4_region_out_data13.bmp to OtsuThreshold folder.\n",
            "Results for data13.bmp:\n",
            "Optimal Threshold (2 regions): 186\n",
            "Optimal Thresholds (3 regions): (186, 254)\n",
            "Optimal Thresholds (4 regions): (109, 206, 254)\n",
            "\n",
            "\n"
          ]
        }
      ],
      "source": [
        "import cv2\n",
        "import numpy as np\n",
        "import matplotlib.pyplot as plt\n",
        "\n",
        "\n",
        "# Load the image\n",
        "paths = [\"tiger1.bmp\", \"basket_balls.bmp\", \"data13.bmp\"]\n",
        "for idx, path in enumerate(paths):\n",
        "    img = cv2.imread(path)\n",
        "    if img is None:\n",
        "        print(f\"Error: Unable to load image at {path}\")\n",
        "        continue\n",
        "    \n",
        "\n",
        "    # Convert to grayscale\n",
        "    gray_img = np.dot(img, [0.299, 0.587, 0.114])\n",
        "    gray_img = np.uint8(gray_img)\n",
        "   \n",
        "\n",
        "    # Apply Otsu thresholding for 2 regions\n",
        "    optimal_threshold_two_region = threshold_with_two_regions(gray_img)\n",
        "    _, binary_image_2_region = cv2.threshold(gray_img, optimal_threshold_two_region, 255, cv2.THRESH_BINARY)\n",
        "\n",
        "    # Apply Otsu thresholding for 3 regions\n",
        "    optimal_threshold_three_region = threshold_with_three_regions(gray_img)\n",
        "    binary_image_3_region = np.zeros_like(gray_img)\n",
        "    t1, t2 = optimal_threshold_three_region\n",
        "    binary_image_3_region[gray_img <= t1] = 0  # Class 1\n",
        "    binary_image_3_region[(gray_img > t1) & (gray_img <= t2)] = 128  # Class 2\n",
        "    binary_image_3_region[gray_img > t2] = 255  # Class 3\n",
        "\n",
        "    # Apply Otsu thresholding for 4 regions\n",
        "    optimal_threshold_four_region = threshold_with_four_regions(gray_img)\n",
        "    binary_image_4_region = np.zeros_like(gray_img)\n",
        "    t1, t2, t3 = optimal_threshold_four_region\n",
        "    binary_image_4_region[gray_img <= t1] = 0  # Class 1\n",
        "    binary_image_4_region[(gray_img > t1) & (gray_img <= t2)] = 85  # Class 2\n",
        "    binary_image_4_region[(gray_img > t2) & (gray_img <= t3)] = 170  # Class 3\n",
        "    binary_image_4_region[gray_img > t3] = 255  # Class 4\n",
        "\n",
        "    # Save and download the results\n",
        "    output_filename_2_region = f\"otsu_2_region_out_{paths[idx]}\"\n",
        "    output_filename_3_region = f\"otsu_3_region_out_{paths[idx]}\"\n",
        "    output_filename_4_region = f\"otsu_4_region_out_{paths[idx]}\"\n",
        "\n",
        "    cv2.imwrite(output_filename_2_region, binary_image_2_region)\n",
        "    cv2.imwrite(output_filename_3_region, binary_image_3_region)\n",
        "    cv2.imwrite(output_filename_4_region, binary_image_4_region)\n",
        "    \n",
        "    move_to_folder(output_filename_2_region)\n",
        "    move_to_folder(output_filename_3_region)\n",
        "    move_to_folder(output_filename_4_region)\n",
        "\n",
        "    print(f\"Results for {path}:\")\n",
        "    print(\"Optimal Threshold (2 regions):\", optimal_threshold_two_region)\n",
        "    print(\"Optimal Thresholds (3 regions):\", optimal_threshold_three_region)\n",
        "    print(\"Optimal Thresholds (4 regions):\", optimal_threshold_four_region)\n",
        "    print(\"\\n\")"
      ]
    }
  ],
  "metadata": {
    "accelerator": "GPU",
    "colab": {
      "gpuType": "T4",
      "provenance": []
    },
    "kernelspec": {
      "display_name": "base",
      "language": "python",
      "name": "python3"
    },
    "language_info": {
      "codemirror_mode": {
        "name": "ipython",
        "version": 3
      },
      "file_extension": ".py",
      "mimetype": "text/x-python",
      "name": "python",
      "nbconvert_exporter": "python",
      "pygments_lexer": "ipython3",
      "version": "3.12.2"
    }
  },
  "nbformat": 4,
  "nbformat_minor": 0
}
